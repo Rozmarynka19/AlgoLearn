{
  "nbformat": 4,
  "nbformat_minor": 0,
  "metadata": {
    "colab": {
      "provenance": [],
      "authorship_tag": "ABX9TyNXx0VsZ7gDBEeK91NPWlq0",
      "include_colab_link": true
    },
    "kernelspec": {
      "name": "python3",
      "display_name": "Python 3"
    },
    "language_info": {
      "name": "python"
    }
  },
  "cells": [
    {
      "cell_type": "markdown",
      "metadata": {
        "id": "view-in-github",
        "colab_type": "text"
      },
      "source": [
        "<a href=\"https://colab.research.google.com/github/Rozmarynka19/AlgoLearn/blob/master/1_Wprowadzenie.ipynb\" target=\"_parent\"><img src=\"https://colab.research.google.com/assets/colab-badge.svg\" alt=\"Open In Colab\"/></a>"
      ]
    },
    {
      "cell_type": "markdown",
      "source": [
        "# **Podstawowe elementy języka python.**\n",
        "\n",
        "*W tym rozdziale przedstawimy podstawowe elementy składni języka Python.*\n",
        "https://www.python.org/\n",
        "\n",
        "## Omawiane elementy:\n",
        "1.   Zmienne\n",
        "2.   Listy\n",
        "3.   Pętle\n",
        "4.   Słowniki i krotki\n",
        "5.   Instrukcje warunkowe\n",
        "6.   Funkcje\n",
        "7.   Obsługa plików\n",
        "8.   Obsługa wyjątków"
      ],
      "metadata": {
        "id": "d_zBTGws8Imt"
      }
    },
    {
      "cell_type": "markdown",
      "source": [
        "## Konfiguracja repozytorium"
      ],
      "metadata": {
        "id": "23Tw_vrzBAkF"
      }
    },
    {
      "cell_type": "code",
      "execution_count": null,
      "metadata": {
        "colab": {
          "base_uri": "https://localhost:8080/"
        },
        "id": "O5jxfHqy6y9e",
        "outputId": "0f0f03e6-7e3a-45b6-af18-7713fa8a2f6c"
      },
      "outputs": [
        {
          "output_type": "stream",
          "name": "stdout",
          "text": [
            "Reinitialized existing Git repository in /content/.git/\n"
          ]
        }
      ],
      "source": [
        "!git init"
      ]
    },
    {
      "cell_type": "code",
      "source": [
        "!git config --global user.name \"Monika\"\n",
        "!git config --global user.email \"morozmarynowska@gmail.com\""
      ],
      "metadata": {
        "id": "3XiH0AYcBe4T"
      },
      "execution_count": null,
      "outputs": []
    },
    {
      "cell_type": "code",
      "source": [
        "!git status"
      ],
      "metadata": {
        "colab": {
          "base_uri": "https://localhost:8080/"
        },
        "id": "XT9NHryvCOHD",
        "outputId": "06d9497f-ec8a-4920-f343-43307be1e89e"
      },
      "execution_count": null,
      "outputs": [
        {
          "output_type": "stream",
          "name": "stdout",
          "text": [
            "On branch master\n",
            "nothing to commit, working tree clean\n"
          ]
        }
      ]
    },
    {
      "cell_type": "code",
      "source": [
        "!git add ."
      ],
      "metadata": {
        "id": "-CfAeXeUCXrR"
      },
      "execution_count": null,
      "outputs": []
    },
    {
      "cell_type": "code",
      "source": [
        "!git status"
      ],
      "metadata": {
        "colab": {
          "base_uri": "https://localhost:8080/"
        },
        "id": "Gz9SLg0gCdWP",
        "outputId": "ecfdaf2b-4b30-433c-ae43-cbe31055de96"
      },
      "execution_count": null,
      "outputs": [
        {
          "output_type": "stream",
          "name": "stdout",
          "text": [
            "On branch master\n",
            "\n",
            "No commits yet\n",
            "\n",
            "Changes to be committed:\n",
            "  (use \"git rm --cached <file>...\" to unstage)\n",
            "\t\u001b[32mnew file:   .config/.last_opt_in_prompt.yaml\u001b[m\n",
            "\t\u001b[32mnew file:   .config/.last_survey_prompt.yaml\u001b[m\n",
            "\t\u001b[32mnew file:   .config/.last_update_check.json\u001b[m\n",
            "\t\u001b[32mnew file:   .config/active_config\u001b[m\n",
            "\t\u001b[32mnew file:   .config/config_sentinel\u001b[m\n",
            "\t\u001b[32mnew file:   .config/configurations/config_default\u001b[m\n",
            "\t\u001b[32mnew file:   .config/default_configs.db\u001b[m\n",
            "\t\u001b[32mnew file:   .config/gce\u001b[m\n",
            "\t\u001b[32mnew file:   .config/hidden_gcloud_config_universe_descriptor_data_cache_configs.db\u001b[m\n",
            "\t\u001b[32mnew file:   .config/logs/2025.02.20/14.23.09.448625.log\u001b[m\n",
            "\t\u001b[32mnew file:   .config/logs/2025.02.20/14.23.42.557542.log\u001b[m\n",
            "\t\u001b[32mnew file:   .config/logs/2025.02.20/14.23.54.466137.log\u001b[m\n",
            "\t\u001b[32mnew file:   .config/logs/2025.02.20/14.23.58.333263.log\u001b[m\n",
            "\t\u001b[32mnew file:   .config/logs/2025.02.20/14.24.10.539232.log\u001b[m\n",
            "\t\u001b[32mnew file:   .config/logs/2025.02.20/14.24.11.360033.log\u001b[m\n",
            "\t\u001b[32mnew file:   sample_data/README.md\u001b[m\n",
            "\t\u001b[32mnew file:   sample_data/anscombe.json\u001b[m\n",
            "\t\u001b[32mnew file:   sample_data/california_housing_test.csv\u001b[m\n",
            "\t\u001b[32mnew file:   sample_data/california_housing_train.csv\u001b[m\n",
            "\t\u001b[32mnew file:   sample_data/mnist_test.csv\u001b[m\n",
            "\t\u001b[32mnew file:   sample_data/mnist_train_small.csv\u001b[m\n",
            "\n"
          ]
        }
      ]
    },
    {
      "cell_type": "code",
      "source": [
        "!git commit -m \"Inicjalizacja projektu\""
      ],
      "metadata": {
        "colab": {
          "base_uri": "https://localhost:8080/"
        },
        "id": "N5YmywZjCiY6",
        "outputId": "0b60e559-d00c-4801-a90a-47cc206239d3"
      },
      "execution_count": null,
      "outputs": [
        {
          "output_type": "stream",
          "name": "stdout",
          "text": [
            "[master (root-commit) 2fb3858] Inicjalizacja projektu\n",
            " 21 files changed, 51023 insertions(+)\n",
            " create mode 100644 .config/.last_opt_in_prompt.yaml\n",
            " create mode 100644 .config/.last_survey_prompt.yaml\n",
            " create mode 100644 .config/.last_update_check.json\n",
            " create mode 100644 .config/active_config\n",
            " create mode 100644 .config/config_sentinel\n",
            " create mode 100644 .config/configurations/config_default\n",
            " create mode 100644 .config/default_configs.db\n",
            " create mode 100644 .config/gce\n",
            " create mode 100644 .config/hidden_gcloud_config_universe_descriptor_data_cache_configs.db\n",
            " create mode 100644 .config/logs/2025.02.20/14.23.09.448625.log\n",
            " create mode 100644 .config/logs/2025.02.20/14.23.42.557542.log\n",
            " create mode 100644 .config/logs/2025.02.20/14.23.54.466137.log\n",
            " create mode 100644 .config/logs/2025.02.20/14.23.58.333263.log\n",
            " create mode 100644 .config/logs/2025.02.20/14.24.10.539232.log\n",
            " create mode 100644 .config/logs/2025.02.20/14.24.11.360033.log\n",
            " create mode 100755 sample_data/README.md\n",
            " create mode 100755 sample_data/anscombe.json\n",
            " create mode 100644 sample_data/california_housing_test.csv\n",
            " create mode 100644 sample_data/california_housing_train.csv\n",
            " create mode 100644 sample_data/mnist_test.csv\n",
            " create mode 100644 sample_data/mnist_train_small.csv\n"
          ]
        }
      ]
    },
    {
      "cell_type": "code",
      "source": [
        "!git log"
      ],
      "metadata": {
        "colab": {
          "base_uri": "https://localhost:8080/"
        },
        "id": "K69wWf5hCtfF",
        "outputId": "c9c9a3d9-9c8f-48fa-aa41-cdc97df8143d"
      },
      "execution_count": null,
      "outputs": [
        {
          "output_type": "stream",
          "name": "stdout",
          "text": [
            "\u001b[33mcommit 2fb3858d4f2e0d620acd42670f9f9bd1fd135130\u001b[m\u001b[33m (\u001b[m\u001b[1;36mHEAD -> \u001b[m\u001b[1;32mmaster\u001b[m\u001b[33m)\u001b[m\n",
            "Author: Monika <morozmarynowska@gmail.com>\n",
            "Date:   Sat Feb 22 09:43:39 2025 +0000\n",
            "\n",
            "    Inicjalizacja projektu\n"
          ]
        }
      ]
    },
    {
      "cell_type": "code",
      "source": [
        "!git branch -M main"
      ],
      "metadata": {
        "id": "HQcgPzUhD7Bd"
      },
      "execution_count": null,
      "outputs": []
    },
    {
      "cell_type": "code",
      "source": [
        "!git log"
      ],
      "metadata": {
        "colab": {
          "base_uri": "https://localhost:8080/"
        },
        "id": "KRqHvIjSD-Fr",
        "outputId": "7f31b5c5-b95a-46ec-a166-a64d8320d681"
      },
      "execution_count": null,
      "outputs": [
        {
          "output_type": "stream",
          "name": "stdout",
          "text": [
            "\u001b[33mcommit 2fb3858d4f2e0d620acd42670f9f9bd1fd135130\u001b[m\u001b[33m (\u001b[m\u001b[1;36mHEAD -> \u001b[m\u001b[1;32mmain\u001b[m\u001b[33m)\u001b[m\n",
            "Author: Monika <morozmarynowska@gmail.com>\n",
            "Date:   Sat Feb 22 09:43:39 2025 +0000\n",
            "\n",
            "    Inicjalizacja projektu\n"
          ]
        }
      ]
    },
    {
      "cell_type": "code",
      "source": [
        "!git remote add origin https://<token>@github.com/Rozmarynka19/kursAI-sb10.git"
      ],
      "metadata": {
        "id": "oxz9NxYaE9NQ"
      },
      "execution_count": null,
      "outputs": []
    },
    {
      "cell_type": "code",
      "source": [
        "!git remote"
      ],
      "metadata": {
        "colab": {
          "base_uri": "https://localhost:8080/"
        },
        "id": "9wBSxNXRFJMC",
        "outputId": "15ba8251-c961-4f6a-c5ba-0ec7e5702c8c"
      },
      "execution_count": null,
      "outputs": [
        {
          "output_type": "stream",
          "name": "stdout",
          "text": [
            "origin\n"
          ]
        }
      ]
    },
    {
      "cell_type": "code",
      "source": [
        "!git push -u origin main"
      ],
      "metadata": {
        "colab": {
          "base_uri": "https://localhost:8080/"
        },
        "id": "uyTZ2fSyFaeo",
        "outputId": "d7828e2c-e03d-4309-8c54-6af89e43f357"
      },
      "execution_count": null,
      "outputs": [
        {
          "output_type": "stream",
          "name": "stdout",
          "text": [
            "Enumerating objects: 28, done.\n",
            "Counting objects:   3% (1/28)\rCounting objects:   7% (2/28)\rCounting objects:  10% (3/28)\rCounting objects:  14% (4/28)\rCounting objects:  17% (5/28)\rCounting objects:  21% (6/28)\rCounting objects:  25% (7/28)\rCounting objects:  28% (8/28)\rCounting objects:  32% (9/28)\rCounting objects:  35% (10/28)\rCounting objects:  39% (11/28)\rCounting objects:  42% (12/28)\rCounting objects:  46% (13/28)\rCounting objects:  50% (14/28)\rCounting objects:  53% (15/28)\rCounting objects:  57% (16/28)\rCounting objects:  60% (17/28)\rCounting objects:  64% (18/28)\rCounting objects:  67% (19/28)\rCounting objects:  71% (20/28)\rCounting objects:  75% (21/28)\rCounting objects:  78% (22/28)\rCounting objects:  82% (23/28)\rCounting objects:  85% (24/28)\rCounting objects:  89% (25/28)\rCounting objects:  92% (26/28)\rCounting objects:  96% (27/28)\rCounting objects: 100% (28/28)\rCounting objects: 100% (28/28), done.\n",
            "Delta compression using up to 2 threads\n",
            "Compressing objects: 100% (21/21), done.\n",
            "Writing objects: 100% (28/28), 8.42 MiB | 1.61 MiB/s, done.\n",
            "Total 28 (delta 5), reused 0 (delta 0), pack-reused 0\n",
            "remote: Resolving deltas: 100% (5/5), done.\u001b[K\n",
            "To https://github.com/Rozmarynka19/kursAI-sb10.git\n",
            " * [new branch]      main -> main\n",
            "Branch 'main' set up to track remote branch 'main' from 'origin'.\n"
          ]
        }
      ]
    },
    {
      "cell_type": "code",
      "source": [
        "!git pull"
      ],
      "metadata": {
        "colab": {
          "base_uri": "https://localhost:8080/"
        },
        "id": "03Dr2T--GdjY",
        "outputId": "06e6e35b-a099-4cb8-b4dd-8b68fd811f38"
      },
      "execution_count": null,
      "outputs": [
        {
          "output_type": "stream",
          "name": "stdout",
          "text": [
            "remote: Enumerating objects: 4, done.\u001b[K\n",
            "remote: Counting objects:  25% (1/4)\u001b[K\rremote: Counting objects:  50% (2/4)\u001b[K\rremote: Counting objects:  75% (3/4)\u001b[K\rremote: Counting objects: 100% (4/4)\u001b[K\rremote: Counting objects: 100% (4/4), done.\u001b[K\n",
            "remote: Compressing objects:  50% (1/2)\u001b[K\rremote: Compressing objects: 100% (2/2)\u001b[K\rremote: Compressing objects: 100% (2/2), done.\u001b[K\n",
            "remote: Total 3 (delta 0), reused 0 (delta 0), pack-reused 0 (from 0)\u001b[K\n",
            "Unpacking objects:  33% (1/3)\rUnpacking objects:  66% (2/3)\rUnpacking objects: 100% (3/3)\rUnpacking objects: 100% (3/3), 981 bytes | 981.00 KiB/s, done.\n",
            "From https://github.com/Rozmarynka19/kursAI-sb10\n",
            "   2fb3858..4a4bf5b  main       -> origin/main\n",
            "Updating 2fb3858..4a4bf5b\n",
            "Fast-forward\n",
            " README.md | 1 \u001b[32m+\u001b[m\n",
            " 1 file changed, 1 insertion(+)\n",
            " create mode 100644 README.md\n"
          ]
        }
      ]
    },
    {
      "cell_type": "code",
      "source": [
        "!git log"
      ],
      "metadata": {
        "colab": {
          "base_uri": "https://localhost:8080/"
        },
        "id": "y9cpmaSjGpOp",
        "outputId": "3748c9bc-e851-4bee-c645-2d014a52a026"
      },
      "execution_count": null,
      "outputs": [
        {
          "output_type": "stream",
          "name": "stdout",
          "text": [
            "\u001b[33mcommit 4a4bf5b9362707018aace22f53f8afa270d81ae7\u001b[m\u001b[33m (\u001b[m\u001b[1;36mHEAD -> \u001b[m\u001b[1;32mmain\u001b[m\u001b[33m, \u001b[m\u001b[1;31morigin/main\u001b[m\u001b[33m)\u001b[m\n",
            "Author: Rozmarynka19 <58343748+Rozmarynka19@users.noreply.github.com>\n",
            "Date:   Sat Feb 22 10:59:56 2025 +0100\n",
            "\n",
            "    Create README.md\n",
            "\n",
            "\u001b[33mcommit 2fb3858d4f2e0d620acd42670f9f9bd1fd135130\u001b[m\n",
            "Author: Monika <morozmarynowska@gmail.com>\n",
            "Date:   Sat Feb 22 09:43:39 2025 +0000\n",
            "\n",
            "    Inicjalizacja projektu\n"
          ]
        }
      ]
    },
    {
      "cell_type": "markdown",
      "source": [
        "## Zmienne"
      ],
      "metadata": {
        "id": "UUgqu1rrIdLt"
      }
    },
    {
      "cell_type": "code",
      "source": [
        "liczba = \"cos\"\n",
        "zmiennoprzecinkowa = 8.9\n",
        "napis = \"Jakis tekst\"\n",
        "logiczna = False\n",
        "\n",
        "print(f\"liczba: {liczba}, zmiennnoprzecinkowa: {zmiennoprzecinkowa}, napis: {napis}, logiczna: {logiczna}\")\n",
        "print(f\"Zmienna liczba jest typu: {type(liczba)}\")"
      ],
      "metadata": {
        "colab": {
          "base_uri": "https://localhost:8080/"
        },
        "id": "xG0JgTIaIiFm",
        "outputId": "93ec62c6-ba25-47b9-f1cb-d3c90d5b05c3"
      },
      "execution_count": null,
      "outputs": [
        {
          "output_type": "stream",
          "name": "stdout",
          "text": [
            "liczba: cos, zmiennnoprzecinkowa: 8.9, napis: Jakis tekst, logiczna: False\n",
            "Zmienna liczba jest typu: <class 'str'>\n"
          ]
        }
      ]
    },
    {
      "cell_type": "markdown",
      "source": [
        "## Listy"
      ],
      "metadata": {
        "id": "_fB4MPl2Ii-D"
      }
    },
    {
      "cell_type": "code",
      "source": [
        "gry = [\"fortnite\", \"minecraft\", \"roblox\"]\n",
        "lista_mieszana = [1, \"minecraft\", 2.3, False]\n",
        "\n",
        "print(gry)\n",
        "print(lista_mieszana)\n",
        "\n",
        "print(f\"Pierwszy element z listy gry to: {gry[0]}\")\n",
        "\n",
        "gry.append(\"cs\")\n",
        "print(gry)"
      ],
      "metadata": {
        "colab": {
          "base_uri": "https://localhost:8080/"
        },
        "id": "Fpl0vbnVIlYM",
        "outputId": "e564765b-e430-47c6-8e82-342858fdd412"
      },
      "execution_count": 5,
      "outputs": [
        {
          "output_type": "stream",
          "name": "stdout",
          "text": [
            "['fortnite', 'minecraft', 'roblox']\n",
            "[1, 'minecraft', 2.3, False]\n",
            "Pierwszy element z listy gry to: fortnite\n",
            "['fortnite', 'minecraft', 'roblox', 'cs']\n"
          ]
        }
      ]
    },
    {
      "cell_type": "markdown",
      "source": [
        "## Pętle"
      ],
      "metadata": {
        "id": "XW-P2J9bIlix"
      }
    },
    {
      "cell_type": "code",
      "source": [
        "# pętla while\n",
        "\n",
        "licznik = 0\n",
        "\n",
        "print(\"Pętla while licząca do 5\")\n",
        "while licznik <= 5:\n",
        "  print(licznik)\n",
        "  licznik += 1 # licznik = licznik + 1"
      ],
      "metadata": {
        "colab": {
          "base_uri": "https://localhost:8080/"
        },
        "id": "nJgtmBlGIokx",
        "outputId": "1a6dde72-7f11-4be4-ce6f-996aab8b46c0"
      },
      "execution_count": null,
      "outputs": [
        {
          "output_type": "stream",
          "name": "stdout",
          "text": [
            "Pętla while licząca do 5\n",
            "0\n",
            "1\n",
            "2\n",
            "3\n",
            "4\n",
            "5\n"
          ]
        }
      ]
    },
    {
      "cell_type": "code",
      "source": [
        "# pętla for\n",
        "\n",
        "for gra in gry:\n",
        "  print(gra)"
      ],
      "metadata": {
        "colab": {
          "base_uri": "https://localhost:8080/"
        },
        "id": "z7MN6w7Y8aGP",
        "outputId": "a9d1ad21-0e25-4abe-ef56-14c148492056"
      },
      "execution_count": 6,
      "outputs": [
        {
          "output_type": "stream",
          "name": "stdout",
          "text": [
            "fortnite\n",
            "minecraft\n",
            "roblox\n",
            "cs\n"
          ]
        }
      ]
    },
    {
      "cell_type": "code",
      "source": [
        "# range\n",
        "\n",
        "r = list(range(6))\n",
        "print(r)\n",
        "\n",
        "r2 = list(range(2,6))\n",
        "print(r2)\n",
        "\n",
        "r3 = list(range(2,6,2))\n",
        "print(r3)"
      ],
      "metadata": {
        "colab": {
          "base_uri": "https://localhost:8080/"
        },
        "id": "4MPKkWU487-6",
        "outputId": "e835ee3d-7987-4f45-d0d2-2e21c548b4ed"
      },
      "execution_count": 11,
      "outputs": [
        {
          "output_type": "stream",
          "name": "stdout",
          "text": [
            "[0, 1, 2, 3, 4, 5]\n",
            "[2, 3, 4, 5]\n",
            "[2, 4]\n"
          ]
        }
      ]
    },
    {
      "cell_type": "code",
      "source": [
        "# range + for\n",
        "\n",
        "for i in range(2,6):\n",
        "  print(i)"
      ],
      "metadata": {
        "colab": {
          "base_uri": "https://localhost:8080/"
        },
        "id": "SnEjIEiG9dFo",
        "outputId": "25caf070-e03f-4e83-908c-73447c72fd92"
      },
      "execution_count": 12,
      "outputs": [
        {
          "output_type": "stream",
          "name": "stdout",
          "text": [
            "2\n",
            "3\n",
            "4\n",
            "5\n"
          ]
        }
      ]
    },
    {
      "cell_type": "markdown",
      "source": [
        "## Słowniki i krotki"
      ],
      "metadata": {
        "id": "1ZknHZXIIn8A"
      }
    },
    {
      "cell_type": "code",
      "source": [
        "# slownik\n",
        "\n",
        "slownik = {\n",
        "    \"kot\":\"cat\",\n",
        "    \"pies\":\"dog\",\n",
        "    \"waz\":\"snake\"\n",
        "}\n",
        "print(slownik[\"kot\"])\n",
        "\n",
        "print(\"Klucze:\")\n",
        "for key in slownik.keys():\n",
        "  print(key)\n",
        "\n",
        "print(\"Wartości:\")\n",
        "for value in slownik.values():\n",
        "  print(value)"
      ],
      "metadata": {
        "id": "72JrJMPDIrku",
        "colab": {
          "base_uri": "https://localhost:8080/"
        },
        "outputId": "3eb016c5-e863-479a-9722-a7b484ff5e0e"
      },
      "execution_count": 16,
      "outputs": [
        {
          "output_type": "stream",
          "name": "stdout",
          "text": [
            "cat\n",
            "Klucze:\n",
            "kot\n",
            "pies\n",
            "waz\n",
            "Wartości:\n",
            "cat\n",
            "dog\n",
            "snake\n"
          ]
        }
      ]
    },
    {
      "cell_type": "code",
      "source": [
        "# krotka\n",
        "wspolrzedne = (2,7)\n",
        "print(f\"Pierwsze współrzędna: {wspolrzedne[0]}, druga współrzędna: {wspolrzedne[1]}\")"
      ],
      "metadata": {
        "colab": {
          "base_uri": "https://localhost:8080/"
        },
        "id": "Pkzn0iqX_MPR",
        "outputId": "6f23450b-da66-4e7a-aa6b-bfc7035c5350"
      },
      "execution_count": 17,
      "outputs": [
        {
          "output_type": "stream",
          "name": "stdout",
          "text": [
            "Pierwsze współrzędna: 2, druga współrzędna: 7\n"
          ]
        }
      ]
    },
    {
      "cell_type": "markdown",
      "source": [
        "## Instrukcje warunkowe"
      ],
      "metadata": {
        "id": "s2DFuHkeIrvo"
      }
    },
    {
      "cell_type": "code",
      "source": [
        "temperatura = float(input(\"Podaj temperaturę: \"))\n",
        "\n",
        "if temperatura < 20:\n",
        "  print(\"Podwyższam temperaturę\")\n",
        "elif temperatura > 25:\n",
        "  print(\"Obniżam temperaturę\")\n",
        "else:\n",
        "  print(\"Temperatura w normie\")"
      ],
      "metadata": {
        "id": "7QmX-a7wIuNV",
        "colab": {
          "base_uri": "https://localhost:8080/"
        },
        "outputId": "9c562dea-389f-4556-d692-f6fd273dcd1e"
      },
      "execution_count": 20,
      "outputs": [
        {
          "output_type": "stream",
          "name": "stdout",
          "text": [
            "Podaj temperaturę: 25.3\n",
            "Obniżam temperaturę\n"
          ]
        }
      ]
    },
    {
      "cell_type": "markdown",
      "source": [
        "## Funkcje"
      ],
      "metadata": {
        "id": "_yJDjj3NIuhZ"
      }
    },
    {
      "cell_type": "code",
      "source": [
        "def dodawanie(a,b):\n",
        "  return a+b\n",
        "\n",
        "print(dodawanie(2,3))"
      ],
      "metadata": {
        "id": "qVS1BEs4I1UP",
        "colab": {
          "base_uri": "https://localhost:8080/"
        },
        "outputId": "b1409d35-71e1-45e3-bbef-6b290a280bae"
      },
      "execution_count": 25,
      "outputs": [
        {
          "output_type": "stream",
          "name": "stdout",
          "text": [
            "5\n"
          ]
        }
      ]
    },
    {
      "cell_type": "code",
      "source": [
        "# wołanie funkcji z argumentem domyślnym\n",
        "\n",
        "def dodawanie(a,b=5):\n",
        "  return a+b\n",
        "\n",
        "print(dodawanie(2))\n",
        "print(dodawanie(2,4))"
      ],
      "metadata": {
        "colab": {
          "base_uri": "https://localhost:8080/"
        },
        "id": "Cfq-yRQoBwZI",
        "outputId": "de7ca365-8320-4fef-e13a-c014716edc6e"
      },
      "execution_count": 26,
      "outputs": [
        {
          "output_type": "stream",
          "name": "stdout",
          "text": [
            "7\n"
          ]
        }
      ]
    },
    {
      "cell_type": "code",
      "source": [
        "# wołanie funkcji z argumentem nazwanym\n",
        "\n",
        "def operacja(a,b):\n",
        "  return 2*a+b\n",
        "\n",
        "print(operacja(b=3,a=1))\n",
        "print(operacja(a=1,b=3)) # print(operacja(1,3))"
      ],
      "metadata": {
        "colab": {
          "base_uri": "https://localhost:8080/"
        },
        "id": "Nw-KaGGYCJyz",
        "outputId": "02818107-e19b-4a8e-8181-37de3e9c1b77"
      },
      "execution_count": 29,
      "outputs": [
        {
          "output_type": "stream",
          "name": "stdout",
          "text": [
            "5\n",
            "5\n"
          ]
        }
      ]
    },
    {
      "cell_type": "markdown",
      "source": [
        "## Obsługa plików"
      ],
      "metadata": {
        "id": "2e5pOhOXI1e0"
      }
    },
    {
      "cell_type": "code",
      "source": [
        "# odczytywanie zawartości pliku\n",
        "# open(\"nazwa_pliku\",\"r\") - otwieranie\n",
        "# r - (read) do odczytu\n",
        "# w - (write) do zapisu\n",
        "# a - (append) do dopisywania\n",
        "# close() - zamykanie pliku\n",
        "\n",
        "with open(\"dane.txt\",\"r\") as file:\n",
        "  for line in file:\n",
        "    print(line)"
      ],
      "metadata": {
        "id": "V0bMt9YQI3-H",
        "colab": {
          "base_uri": "https://localhost:8080/"
        },
        "outputId": "1f934175-22b9-4549-9b97-51bb4efdcc8f"
      },
      "execution_count": 30,
      "outputs": [
        {
          "output_type": "stream",
          "name": "stdout",
          "text": [
            "minecraft\n",
            "\n",
            "cs\n",
            "\n",
            "fortnite\n"
          ]
        }
      ]
    },
    {
      "cell_type": "code",
      "source": [
        "# dopisywanie do pliku\n",
        "\n",
        "with open(\"dane.txt\",\"a\") as file:\n",
        "  file.write('\\nlua')"
      ],
      "metadata": {
        "id": "T6TUHFKOENz-"
      },
      "execution_count": 34,
      "outputs": []
    },
    {
      "cell_type": "code",
      "source": [
        "# zapis do nowego pliku\n",
        "\n",
        "with open('dane2.txt','w') as file:\n",
        "  file.write('Lubie placki')"
      ],
      "metadata": {
        "id": "9Oxm6BTME7y0"
      },
      "execution_count": 36,
      "outputs": []
    },
    {
      "cell_type": "markdown",
      "source": [
        "## Obsługa wyjątków"
      ],
      "metadata": {
        "id": "5RObndIZI4Jx"
      }
    },
    {
      "cell_type": "code",
      "source": [
        "\n",
        "try:\n",
        "  dzielna = float(input(\"Podaj dzielną: \"))\n",
        "  dzielnik = float(input(\"Podaj dzielnik: \"))\n",
        "  wynik = dzielna / dzielnik\n",
        "except Exception as e:\n",
        "  print(f\"Błąd o treści: {e}\")\n",
        "else:\n",
        "  print(\"Kod w try wykonany bez błędu\")\n",
        "  print(f\"{dzielna}/{dzielnik}={wynik}\")\n",
        "finally:\n",
        "  print(\"Koniec programu\")"
      ],
      "metadata": {
        "id": "hteYTJHsI6iP",
        "colab": {
          "base_uri": "https://localhost:8080/"
        },
        "outputId": "a2f3a299-a00c-4a6f-daee-fdd014b661c3"
      },
      "execution_count": 43,
      "outputs": [
        {
          "output_type": "stream",
          "name": "stdout",
          "text": [
            "Podaj dzielną: dwa\n",
            "Błąd o treści: could not convert string to float: 'dwa'\n",
            "Koniec programu\n"
          ]
        }
      ]
    },
    {
      "cell_type": "code",
      "source": [
        "dzielna = float(input(\"Podaj dzielną: \"))\n",
        "dzielnik = float(input(\"Podaj dzielnik: \"))\n",
        "wynik = dzielna / dzielnik"
      ],
      "metadata": {
        "colab": {
          "base_uri": "https://localhost:8080/",
          "height": 193
        },
        "id": "tyY5SN7_GKB3",
        "outputId": "6a3c0a46-1f6b-404d-a133-cc527ec34d41"
      },
      "execution_count": 42,
      "outputs": [
        {
          "name": "stdout",
          "output_type": "stream",
          "text": [
            "Podaj dzielną: dwa\n"
          ]
        },
        {
          "output_type": "error",
          "ename": "ValueError",
          "evalue": "could not convert string to float: 'dwa'",
          "traceback": [
            "\u001b[0;31m---------------------------------------------------------------------------\u001b[0m",
            "\u001b[0;31mValueError\u001b[0m                                Traceback (most recent call last)",
            "\u001b[0;32m<ipython-input-42-4a44d1830426>\u001b[0m in \u001b[0;36m<cell line: 0>\u001b[0;34m()\u001b[0m\n\u001b[0;32m----> 1\u001b[0;31m \u001b[0mdzielna\u001b[0m \u001b[0;34m=\u001b[0m \u001b[0mfloat\u001b[0m\u001b[0;34m(\u001b[0m\u001b[0minput\u001b[0m\u001b[0;34m(\u001b[0m\u001b[0;34m\"Podaj dzielną: \"\u001b[0m\u001b[0;34m)\u001b[0m\u001b[0;34m)\u001b[0m\u001b[0;34m\u001b[0m\u001b[0;34m\u001b[0m\u001b[0m\n\u001b[0m\u001b[1;32m      2\u001b[0m \u001b[0mdzielnik\u001b[0m \u001b[0;34m=\u001b[0m \u001b[0mfloat\u001b[0m\u001b[0;34m(\u001b[0m\u001b[0minput\u001b[0m\u001b[0;34m(\u001b[0m\u001b[0;34m\"Podaj dzielnik: \"\u001b[0m\u001b[0;34m)\u001b[0m\u001b[0;34m)\u001b[0m\u001b[0;34m\u001b[0m\u001b[0;34m\u001b[0m\u001b[0m\n\u001b[1;32m      3\u001b[0m \u001b[0mwynik\u001b[0m \u001b[0;34m=\u001b[0m \u001b[0mdzielna\u001b[0m \u001b[0;34m/\u001b[0m \u001b[0mdzielnik\u001b[0m\u001b[0;34m\u001b[0m\u001b[0;34m\u001b[0m\u001b[0m\n",
            "\u001b[0;31mValueError\u001b[0m: could not convert string to float: 'dwa'"
          ]
        }
      ]
    }
  ]
}